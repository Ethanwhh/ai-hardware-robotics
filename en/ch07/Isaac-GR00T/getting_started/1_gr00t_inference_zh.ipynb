{
 "cells": [
  {
   "cell_type": "markdown",
   "id": "04f20868",
   "metadata": {},
   "source": [
    "# GR00T Inference\n",
    "\n",
    "This tutorial shows how to use the GR00T inference model to predict actions from observations in a given test dataset."
   ]
  },
  {
   "cell_type": "code",
   "execution_count": null,
   "id": "819aa009",
   "metadata": {},
   "outputs": [],
   "source": [
    "import os\n",
    "import torch\n",
    "import gr00t\n",
    "\n",
    "from gr00t.data.dataset import LeRobotSingleDataset\n",
    "from gr00t.model.policy import Gr00tPolicy"
   ]
  },
  {
   "cell_type": "code",
   "execution_count": null,
   "id": "c1fe87c0",
   "metadata": {},
   "outputs": [],
   "source": [
    "# change the following paths\n",
    "MODEL_PATH = \"nvidia/GR00T-N1-2B\"\n",
    "\n",
    "# REPO_PATH is the path of the pip install gr00t repo and one level up\n",
    "REPO_PATH = os.path.dirname(os.path.dirname(gr00t.__file__))\n",
    "DATASET_PATH = os.path.join(REPO_PATH, \"demo_data/robot_sim.PickNPlace\")\n",
    "EMBODIMENT_TAG = \"gr1\"\n",
    "\n",
    "device = \"cuda\" if torch.cuda.is_available() else \"cpu\""
   ]
  },
  {
   "cell_type": "markdown",
   "id": "bf1b2ccf",
   "metadata": {},
   "source": [
    "## Loading Pretrained Policies\n",
    "\n",
    "The policy model is loaded in the same way as any other huggingface model.\n",
    "\n",
    "There are two new concepts in the GR00T model:\n",
    " - Modality Configuration: This defines the keys in the dictionary used by the model. (e.g., `action`, `state`, `annotation`, `video`)\n",
    " - Modality Transforms: A series of transformations used during the data loading process"
   ]
  },
  {
   "cell_type": "code",
   "execution_count": null,
   "id": "f550c59e",
   "metadata": {},
   "outputs": [],
   "source": [
    "from gr00t.experiment.data_config import DATA_CONFIG_MAP\n",
    "\n",
    "\n",
    "data_config = DATA_CONFIG_MAP[\"gr1_arms_only\"]\n",
    "modality_config = data_config.modality_config()\n",
    "modality_transform = data_config.transform()\n",
    "\n",
    "policy = Gr00tPolicy(\n",
    "    model_path=MODEL_PATH,\n",
    "    embodiment_tag=EMBODIMENT_TAG,\n",
    "    modality_config=modality_config,\n",
    "    modality_transform=modality_transform,\n",
    "    device=device,\n",
    ")\n",
    "\n",
    "# print out the policy model architecture\n",
    "print(policy.model)"
   ]
  },
  {
   "cell_type": "markdown",
   "id": "64cda2ae",
   "metadata": {},
   "source": [
    "## Loading Dataset"
   ]
  },
  {
   "cell_type": "markdown",
   "id": "2290bd95",
   "metadata": {},
   "source": [
    "First, the user needs to check which implementation labels are used by the `Gr00tPolicy` pretrained model."
   ]
  },
  {
   "cell_type": "code",
   "execution_count": null,
   "id": "997b3b52",
   "metadata": {},
   "outputs": [],
   "source": [
    "import numpy as np\n",
    "\n",
    "modality_config = policy.modality_config\n",
    "\n",
    "print(modality_config.keys())\n",
    "\n",
    "for key, value in modality_config.items():\n",
    "    if isinstance(value, np.ndarray):\n",
    "        print(key, value.shape)\n",
    "    else:\n",
    "        print(key, value)\n"
   ]
  },
  {
   "cell_type": "code",
   "execution_count": null,
   "id": "530c58f2",
   "metadata": {},
   "outputs": [],
   "source": [
    "# Create the dataset\n",
    "dataset = LeRobotSingleDataset(\n",
    "    dataset_path=DATASET_PATH,\n",
    "    modality_configs=modality_config,\n",
    "    video_backend=\"decord\",\n",
    "    video_backend_kwargs=None,\n",
    "    transforms=None,  # We'll handle transforms separately through the policy\n",
    "    embodiment_tag=EMBODIMENT_TAG,\n",
    ")"
   ]
  },
  {
   "cell_type": "markdown",
   "id": "b89e2bce",
   "metadata": {},
   "source": [
    "Let's print out the individual data and visualize it."
   ]
  },
  {
   "cell_type": "code",
   "execution_count": null,
   "id": "34276379",
   "metadata": {},
   "outputs": [],
   "source": [
    "import numpy as np\n",
    "\n",
    "step_data = dataset[0]\n",
    "\n",
    "print(step_data)\n",
    "\n",
    "print(\"\\n\\n ====================================\")\n",
    "for key, value in step_data.items():\n",
    "    if isinstance(value, np.ndarray):\n",
    "        print(key, value.shape)\n",
    "    else:\n",
    "        print(key, value)\n"
   ]
  },
  {
   "cell_type": "markdown",
   "id": "70243dda",
   "metadata": {},
   "source": [
    "Let's plot only the state and action data for the 'right hand' to see what it looks like. Also, display the image of the right hand state."
   ]
  },
  {
   "cell_type": "code",
   "execution_count": null,
   "id": "cc948395",
   "metadata": {},
   "outputs": [],
   "source": [
    "import matplotlib.pyplot as plt\n",
    "\n",
    "traj_id = 0\n",
    "max_steps = 150\n",
    "\n",
    "state_joints_across_time = []\n",
    "gt_action_joints_across_time = []\n",
    "images = []\n",
    "\n",
    "sample_images = 6\n",
    "\n",
    "for step_count in range(max_steps):\n",
    "    data_point = dataset.get_step_data(traj_id, step_count)\n",
    "    state_joints = data_point[\"state.right_arm\"][0]\n",
    "    gt_action_joints = data_point[\"action.right_arm\"][0]\n",
    "    \n",
    "   \n",
    "    state_joints_across_time.append(state_joints)\n",
    "    gt_action_joints_across_time.append(gt_action_joints)\n",
    "\n",
    "    # We can also get the image data\n",
    "    if step_count % (max_steps // sample_images) == 0:\n",
    "        image = data_point[\"video.ego_view\"][0]\n",
    "        images.append(image)\n",
    "\n",
    "# Size is (max_steps, num_joints == 7)\n",
    "state_joints_across_time = np.array(state_joints_across_time)\n",
    "gt_action_joints_across_time = np.array(gt_action_joints_across_time)\n",
    "\n",
    "\n",
    "# Plot the joint angles across time\n",
    "fig, axes = plt.subplots(nrows=7, ncols=1, figsize=(8, 2*7))\n",
    "\n",
    "for i, ax in enumerate(axes):\n",
    "    ax.plot(state_joints_across_time[:, i], label=\"state joints\")\n",
    "    ax.plot(gt_action_joints_across_time[:, i], label=\"gt action joints\")\n",
    "    ax.set_title(f\"Joint {i}\")\n",
    "    ax.legend()\n",
    "\n",
    "plt.tight_layout()\n",
    "plt.show()\n",
    "\n",
    "\n",
    "# Plot the images in a row\n",
    "fig, axes = plt.subplots(nrows=1, ncols=sample_images, figsize=(16, 4))\n",
    "\n",
    "for i, ax in enumerate(axes):\n",
    "    ax.imshow(images[i])\n",
    "    ax.axis(\"off\")\n",
    "    "
   ]
  },
  {
   "cell_type": "markdown",
   "id": "a3ff3bf0",
   "metadata": {},
   "source": [
    "Now we can run the policy from the pretrained checkpoint."
   ]
  },
  {
   "cell_type": "code",
   "execution_count": null,
   "id": "bf12379d",
   "metadata": {},
   "outputs": [],
   "source": [
    "predicted_action = policy.get_action(step_data)\n",
    "for key, value in predicted_action.items():\n",
    "    print(key, value.shape)"
   ]
  },
  {
   "cell_type": "markdown",
   "id": "0f4a9bd2",
   "metadata": {},
   "source": [
    "### Understanding Action Output\n",
    "\n",
    "The shape of each joint in the action output is (16, N), where N is the degree of freedom of the joint.\n",
    "- 16 represents the action time domain (predictions for time steps t, t+1, t+2, ..., t+15)\n",
    "\n",
    "For each arm (left and right):\n",
    "- 7 arm joints:\n",
    "  - Shoulder pitch\n",
    "  - Shoulder roll\n",
    "  - Shoulder yaw\n",
    "  - Elbow pitch\n",
    "  - Wrist yaw\n",
    "  - Wrist roll\n",
    "  - Wrist pitch\n",
    "\n",
    "For each hand (left and right):\n",
    "- 6 finger joints:\n",
    "  - Little finger\n",
    "  - Ring finger\n",
    "  - Middle finger"
   ]
  }
 ],
 "metadata": {
  "kernelspec": {
   "display_name": "Python 3 (ipykernel)",
   "language": "python",
   "name": "python3"
  }
 },
 "nbformat": 4,
 "nbformat_minor": 5
}
