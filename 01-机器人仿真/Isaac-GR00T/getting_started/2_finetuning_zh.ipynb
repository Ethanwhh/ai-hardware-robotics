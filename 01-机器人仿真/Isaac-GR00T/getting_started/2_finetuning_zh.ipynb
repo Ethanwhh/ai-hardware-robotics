{
 "cells": [
  {
   "cell_type": "markdown",
   "id": "790e661c",
   "metadata": {},
   "source": [
    "# 微调\n",
    "\n",
    "本教程说明如何在相同实施的后训练数据集上微调`GR00T-N1`预训练检查点。这展示了后训练的好处，将通用模型转变为专家模型并展示性能提升。\n",
    "\n",
    "在本教程中，我们将使用[demo_data](./demo_data)文件夹中的演示数据集`robot_sim.PickNPlace`。\n",
    "\n",
    "我们将首先加载预训练模型并在数据集上评估它。然后我们将在数据集上微调模型并评估性能。"
   ]
  },
  {
   "cell_type": "markdown",
   "id": "c4be53ee",
   "metadata": {},
   "source": [
    "## 预训练模型"
   ]
  },
  {
   "cell_type": "code",
   "execution_count": null,
   "id": "687aed00",
   "metadata": {},
   "outputs": [],
   "source": [
    "from gr00t.utils.eval import calc_mse_for_single_trajectory\n",
    "import warnings\n",
    "from gr00t.experiment.data_config import DATA_CONFIG_MAP\n",
    "from gr00t.model.policy import Gr00tPolicy\n",
    "from gr00t.data.schema import EmbodimentTag\n",
    "from gr00t.data.dataset import LeRobotSingleDataset\n",
    "import numpy as np\n",
    "import torch\n",
    "\n",
    "device = \"cuda\" if torch.cuda.is_available() else \"cpu\"\n",
    "\n",
    "warnings.simplefilter(\"ignore\", category=FutureWarning)"
   ]
  },
  {
   "cell_type": "code",
   "execution_count": null,
   "id": "458e63ef",
   "metadata": {},
   "outputs": [],
   "source": [
    "PRE_TRAINED_MODEL_PATH = \"nvidia/GR00T-N1-2B\"\n",
    "EMBODIMENT_TAG = EmbodimentTag.GR1\n",
    "DATASET_PATH = \"../demo_data/robot_sim.PickNPlace\"\n",
    "\n",
    "\n",
    "data_config = DATA_CONFIG_MAP[\"gr1_arms_only\"]\n",
    "modality_config = data_config.modality_config()\n",
    "modality_transform = data_config.transform()\n",
    "\n",
    "\n",
    "pre_trained_policy = Gr00tPolicy(\n",
    "    model_path=PRE_TRAINED_MODEL_PATH,\n",
    "    embodiment_tag=EMBODIMENT_TAG,\n",
    "    modality_config=modality_config,\n",
    "    modality_transform=modality_transform,\n",
    "    device=device,\n",
    ")\n",
    "\n",
    "dataset = LeRobotSingleDataset(\n",
    "    dataset_path=DATASET_PATH,\n",
    "    modality_configs=modality_config,\n",
    "    video_backend=\"decord\",\n",
    "    video_backend_kwargs=None,\n",
    "    transforms=None,  # We'll handle transforms separately through the policy\n",
    "    embodiment_tag=EMBODIMENT_TAG,\n",
    ")\n",
    "\n",
    "\n",
    "mse = calc_mse_for_single_trajectory(\n",
    "    pre_trained_policy,\n",
    "    dataset,\n",
    "    traj_id=0,\n",
    "    modality_keys=[\"right_arm\", \"right_hand\"],   # we will only evaluate the right arm and right hand\n",
    "    steps=150,\n",
    "    action_horizon=16,\n",
    "    plot=True\n",
    ")\n",
    "\n",
    "print(\"MSE loss for trajectory 0:\", mse)"
   ]
  },
  {
   "cell_type": "markdown",
   "id": "8805e49a",
   "metadata": {},
   "source": [
    "太好了！我们可以看到预测的动作和真实动作。预测的动作不是完美的，但它们接近真实动作。这表明预训练检查点工作得很好。\n",
    "\n",
    "现在让我们随机抽样10个轨迹并计算平均MSE，以获得更详细的结果。"
   ]
  },
  {
   "cell_type": "code",
   "execution_count": null,
   "id": "bb6fcf6a",
   "metadata": {},
   "outputs": [],
   "source": [
    "total_trajectories = len(dataset.trajectory_lengths)\n",
    "\n",
    "print(\"Total trajectories:\", total_trajectories)\n",
    "\n",
    "sampled_trajectories = np.random.choice(total_trajectories, 10)\n",
    "print(\"Sampled trajectories:\", sampled_trajectories)\n",
    "\n",
    "all_mses = []\n",
    "\n",
    "for traj_id in sampled_trajectories:\n",
    "    mse = calc_mse_for_single_trajectory(\n",
    "        pre_trained_policy,\n",
    "        dataset,\n",
    "        traj_id=traj_id,\n",
    "        modality_keys=[\"right_arm\", \"right_hand\"],   # we will only evaluate the right arm and right hand\n",
    "        steps=150,\n",
    "        action_horizon=16,\n",
    "        plot=False\n",
    "    )\n",
    "    print(f\"Trajectory {traj_id} MSE: {mse:.4f}\")\n",
    "    \n",
    "    all_mses.append(mse)\n",
    "\n",
    "print(\"====================================\")\n",
    "print(\"Mean MSE:\", np.mean(all_mses))\n",
    "print(\"Std MSE:\", np.std(all_mses))\n"
   ]
  },
  {
   "cell_type": "markdown",
   "id": "5e2344db",
   "metadata": {},
   "source": [
    "## 微调模型\n",
    "\n",
    "现在我们将在数据集上微调模型。不深入微调过程的细节，我们将使用`gr00t_finetune.py`脚本来微调模型。您可以运行以下命令来微调模型。"
   ]
  },
  {
   "cell_type": "markdown",
   "id": "df02cef3",
   "metadata": {},
   "source": [
    "```bash\n",
    "python scripts/gr00t_finetune.py --dataset-path ./demo_data/robot_sim.PickNPlace --num-gpus 1 --max-steps 500 --output-dir /tmp/gr00t-1/finetuned-model --data-config gr1_arms_only\n",
    "```\n",
    "\n",
    "_要获取可用参数的完整列表，您可以运行`python scripts/gr00t_finetune.py --help`。_\n",
    "\n",
    "脚本将在`/tmp/gr00t-1/finetuned-model`目录中保存微调后的模型。我们将加载具有`500`个检查点步骤的微调模型。"
   ]
  },
  {
   "cell_type": "markdown",
   "id": "7083bd67",
   "metadata": {},
   "source": [
    "### 微调模型的评估\n",
    "\n",
    "现在我们可以通过在数据集上运行策略来评估微调后的模型，看看它表现如何。我们将使用一个实用函数在数据集上评估策略。这类似于之前的教程[1_pretrained_model.ipynb](1_pretrained_model.ipynb)"
   ]
  },
  {
   "cell_type": "code",
   "execution_count": null,
   "id": "7569143e",
   "metadata": {},
   "outputs": [],
   "source": [
    "finetuned_model_path = \"/tmp/gr00t-1/finetuned-model/checkpoint-500\"\n",
    "\n",
    "from gr00t.utils.eval import calc_mse_for_single_trajectory\n",
    "import warnings\n",
    "\n",
    "finetuned_policy = Gr00tPolicy(\n",
    "    model_path=finetuned_model_path,\n",
    "    embodiment_tag=\"new_embodiment\",\n",
    "    modality_config=modality_config,\n",
    "    modality_transform=modality_transform,\n",
    "    device=device,\n",
    ")\n",
    "\n",
    "warnings.simplefilter(\"ignore\", category=FutureWarning)\n",
    "\n",
    "mse = calc_mse_for_single_trajectory(\n",
    "    finetuned_policy,\n",
    "    dataset,\n",
    "    traj_id=0,\n",
    "    modality_keys=[\"right_arm\", \"right_hand\"],   # we will only evaluate the right arm and right hand\n",
    "    steps=150,\n",
    "    action_horizon=16,\n",
    "    plot=True\n",
    ")\n",
    "\n",
    "print(\"MSE loss for trajectory 0:\", mse)"
   ]
  },
  {
   "cell_type": "markdown",
   "id": "82f7de56",
   "metadata": {},
   "source": [
    "耶！我们已经微调了模型并在数据集上对其进行了评估。我们可以看到，模型已经学会了任务，并且能够比预训练模型更好地执行任务。 "
   ]
  }
 ],
 "metadata": {
  "kernelspec": {
   "display_name": "Python 3 (ipykernel)",
   "language": "python",
   "name": "python3"
  }
 },
 "nbformat": 4,
 "nbformat_minor": 5
}
