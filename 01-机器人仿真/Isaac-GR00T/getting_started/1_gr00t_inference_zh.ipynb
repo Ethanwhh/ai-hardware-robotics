{
 "cells": [
  {
   "cell_type": "markdown",
   "id": "04f20868",
   "metadata": {},
   "source": [
    "# GR00T推理\n",
    "\n",
    "本教程展示了如何使用GR00T推理模型从给定测试数据集的观察中预测动作。"
   ]
  },
  {
   "cell_type": "code",
   "execution_count": null,
   "id": "819aa009",
   "metadata": {},
   "outputs": [],
   "source": [
    "import os\n",
    "import torch\n",
    "import gr00t\n",
    "\n",
    "from gr00t.data.dataset import LeRobotSingleDataset\n",
    "from gr00t.model.policy import Gr00tPolicy"
   ]
  },
  {
   "cell_type": "code",
   "execution_count": null,
   "id": "c1fe87c0",
   "metadata": {},
   "outputs": [],
   "source": [
    "# change the following paths\n",
    "MODEL_PATH = \"nvidia/GR00T-N1-2B\"\n",
    "\n",
    "# REPO_PATH is the path of the pip install gr00t repo and one level up\n",
    "REPO_PATH = os.path.dirname(os.path.dirname(gr00t.__file__))\n",
    "DATASET_PATH = os.path.join(REPO_PATH, \"demo_data/robot_sim.PickNPlace\")\n",
    "EMBODIMENT_TAG = \"gr1\"\n",
    "\n",
    "device = \"cuda\" if torch.cuda.is_available() else \"cpu\""
   ]
  },
  {
   "cell_type": "markdown",
   "id": "bf1b2ccf",
   "metadata": {},
   "source": [
    "## 加载预训练策略\n",
    "\n",
    "策略模型的加载方式与任何其他huggingface模型相同。\n",
    "\n",
    "GR00T模型中有两个新概念：\n",
    " - 模态配置：这定义了模型使用的字典中的键。（例如`action`、`state`、`annotation`、`video`）\n",
    " - 模态转换：数据加载过程中使用的一系列转换"
   ]
  },
  {
   "cell_type": "code",
   "execution_count": null,
   "id": "f550c59e",
   "metadata": {},
   "outputs": [],
   "source": [
    "from gr00t.experiment.data_config import DATA_CONFIG_MAP\n",
    "\n",
    "\n",
    "data_config = DATA_CONFIG_MAP[\"gr1_arms_only\"]\n",
    "modality_config = data_config.modality_config()\n",
    "modality_transform = data_config.transform()\n",
    "\n",
    "policy = Gr00tPolicy(\n",
    "    model_path=MODEL_PATH,\n",
    "    embodiment_tag=EMBODIMENT_TAG,\n",
    "    modality_config=modality_config,\n",
    "    modality_transform=modality_transform,\n",
    "    device=device,\n",
    ")\n",
    "\n",
    "# print out the policy model architecture\n",
    "print(policy.model)"
   ]
  },
  {
   "cell_type": "markdown",
   "id": "64cda2ae",
   "metadata": {},
   "source": [
    "## 加载数据集"
   ]
  },
  {
   "cell_type": "markdown",
   "id": "2290bd95",
   "metadata": {},
   "source": [
    "首先，用户需要检查`Gr00tPolicy`预训练模型使用了哪些实施标签。"
   ]
  },
  {
   "cell_type": "code",
   "execution_count": null,
   "id": "997b3b52",
   "metadata": {},
   "outputs": [],
   "source": [
    "import numpy as np\n",
    "\n",
    "modality_config = policy.modality_config\n",
    "\n",
    "print(modality_config.keys())\n",
    "\n",
    "for key, value in modality_config.items():\n",
    "    if isinstance(value, np.ndarray):\n",
    "        print(key, value.shape)\n",
    "    else:\n",
    "        print(key, value)\n"
   ]
  },
  {
   "cell_type": "code",
   "execution_count": null,
   "id": "530c58f2",
   "metadata": {},
   "outputs": [],
   "source": [
    "# Create the dataset\n",
    "dataset = LeRobotSingleDataset(\n",
    "    dataset_path=DATASET_PATH,\n",
    "    modality_configs=modality_config,\n",
    "    video_backend=\"decord\",\n",
    "    video_backend_kwargs=None,\n",
    "    transforms=None,  # We'll handle transforms separately through the policy\n",
    "    embodiment_tag=EMBODIMENT_TAG,\n",
    ")"
   ]
  },
  {
   "cell_type": "markdown",
   "id": "b89e2bce",
   "metadata": {},
   "source": [
    "让我们打印出单个数据并进行可视化"
   ]
  },
  {
   "cell_type": "code",
   "execution_count": null,
   "id": "34276379",
   "metadata": {},
   "outputs": [],
   "source": [
    "import numpy as np\n",
    "\n",
    "step_data = dataset[0]\n",
    "\n",
    "print(step_data)\n",
    "\n",
    "print(\"\\n\\n ====================================\")\n",
    "for key, value in step_data.items():\n",
    "    if isinstance(value, np.ndarray):\n",
    "        print(key, value.shape)\n",
    "    else:\n",
    "        print(key, value)\n"
   ]
  },
  {
   "cell_type": "markdown",
   "id": "70243dda",
   "metadata": {},
   "source": [
    "让我们只绘制\"右手\"的状态和动作数据，看看它的样子。同时也展示右手状态的图像。"
   ]
  },
  {
   "cell_type": "code",
   "execution_count": null,
   "id": "cc948395",
   "metadata": {},
   "outputs": [],
   "source": [
    "import matplotlib.pyplot as plt\n",
    "\n",
    "traj_id = 0\n",
    "max_steps = 150\n",
    "\n",
    "state_joints_across_time = []\n",
    "gt_action_joints_across_time = []\n",
    "images = []\n",
    "\n",
    "sample_images = 6\n",
    "\n",
    "for step_count in range(max_steps):\n",
    "    data_point = dataset.get_step_data(traj_id, step_count)\n",
    "    state_joints = data_point[\"state.right_arm\"][0]\n",
    "    gt_action_joints = data_point[\"action.right_arm\"][0]\n",
    "    \n",
    "   \n",
    "    state_joints_across_time.append(state_joints)\n",
    "    gt_action_joints_across_time.append(gt_action_joints)\n",
    "\n",
    "    # We can also get the image data\n",
    "    if step_count % (max_steps // sample_images) == 0:\n",
    "        image = data_point[\"video.ego_view\"][0]\n",
    "        images.append(image)\n",
    "\n",
    "# Size is (max_steps, num_joints == 7)\n",
    "state_joints_across_time = np.array(state_joints_across_time)\n",
    "gt_action_joints_across_time = np.array(gt_action_joints_across_time)\n",
    "\n",
    "\n",
    "# Plot the joint angles across time\n",
    "fig, axes = plt.subplots(nrows=7, ncols=1, figsize=(8, 2*7))\n",
    "\n",
    "for i, ax in enumerate(axes):\n",
    "    ax.plot(state_joints_across_time[:, i], label=\"state joints\")\n",
    "    ax.plot(gt_action_joints_across_time[:, i], label=\"gt action joints\")\n",
    "    ax.set_title(f\"Joint {i}\")\n",
    "    ax.legend()\n",
    "\n",
    "plt.tight_layout()\n",
    "plt.show()\n",
    "\n",
    "\n",
    "# Plot the images in a row\n",
    "fig, axes = plt.subplots(nrows=1, ncols=sample_images, figsize=(16, 4))\n",
    "\n",
    "for i, ax in enumerate(axes):\n",
    "    ax.imshow(images[i])\n",
    "    ax.axis(\"off\")\n",
    "    "
   ]
  },
  {
   "cell_type": "markdown",
   "id": "a3ff3bf0",
   "metadata": {},
   "source": [
    "现在我们可以从预训练检查点运行策略。"
   ]
  },
  {
   "cell_type": "code",
   "execution_count": null,
   "id": "bf12379d",
   "metadata": {},
   "outputs": [],
   "source": [
    "predicted_action = policy.get_action(step_data)\n",
    "for key, value in predicted_action.items():\n",
    "    print(key, value.shape)"
   ]
  },
  {
   "cell_type": "markdown",
   "id": "0f4a9bd2",
   "metadata": {},
   "source": [
    "### 理解动作输出\n",
    "\n",
    "动作输出中的每个关节的形状为(16, N)，其中N是关节的自由度。\n",
    "- 16表示动作时域（预测时间步t、t+1、t+2、...、t+15的预测）\n",
    "\n",
    "对于每只手臂（左和右）：\n",
    "- 7个手臂关节：\n",
    "  - 肩部俯仰\n",
    "  - 肩部滚动\n",
    "  - 肩部偏航\n",
    "  - 肘部俯仰\n",
    "  - 腕部偏航\n",
    "  - 腕部滚动\n",
    "  - 腕部俯仰\n",
    "\n",
    "对于每只手（左和右）：\n",
    "- 6个手指关节：\n",
    "  - 小指\n",
    "  - 无名指\n",
    "  - 中指 "
   ]
  }
 ],
 "metadata": {
  "kernelspec": {
   "display_name": "Python 3 (ipykernel)",
   "language": "python",
   "name": "python3"
  }
 },
 "nbformat": 4,
 "nbformat_minor": 5
}
